{
 "cells": [
  {
   "cell_type": "code",
   "execution_count": 6,
   "id": "5a083cef-f2d0-4c1b-971f-0dd0ede5630d",
   "metadata": {},
   "outputs": [],
   "source": [
    "l=[1,2,3]"
   ]
  },
  {
   "cell_type": "code",
   "execution_count": 7,
   "id": "1bdfed82-be82-498f-8248-2d7cf56e51eb",
   "metadata": {},
   "outputs": [],
   "source": [
    "l.insert(0,4)"
   ]
  },
  {
   "cell_type": "code",
   "execution_count": 8,
   "id": "a179bb65-122d-4f06-b2aa-d44b67679e3e",
   "metadata": {},
   "outputs": [
    {
     "data": {
      "text/plain": [
       "[4, 1, 2, 3]"
      ]
     },
     "execution_count": 8,
     "metadata": {},
     "output_type": "execute_result"
    }
   ],
   "source": [
    "l"
   ]
  },
  {
   "cell_type": "code",
   "execution_count": 9,
   "id": "e12ae2e0-9898-4120-b63f-ba932f483496",
   "metadata": {},
   "outputs": [],
   "source": [
    "#This is the answer 1."
   ]
  },
  {
   "cell_type": "code",
   "execution_count": 11,
   "id": "ee2f613e-e476-4ced-86d6-fbe7ef24e1e2",
   "metadata": {},
   "outputs": [],
   "source": [
    "#remove() functions can remove any element in the list and pop() functions remove only the last element in the list."
   ]
  },
  {
   "cell_type": "code",
   "execution_count": 12,
   "id": "18099070-1130-4b7f-97f0-517685972c72",
   "metadata": {},
   "outputs": [],
   "source": [
    "#This is the answer 2."
   ]
  },
  {
   "cell_type": "code",
   "execution_count": 15,
   "id": "a9f562ff-9528-4f37-b781-6c59075dba61",
   "metadata": {},
   "outputs": [],
   "source": [
    "l=[1,2,3]"
   ]
  },
  {
   "cell_type": "code",
   "execution_count": 16,
   "id": "d1947423-ed10-4f16-a9fc-8b589576da38",
   "metadata": {},
   "outputs": [],
   "source": [
    "l.reverse()"
   ]
  },
  {
   "cell_type": "code",
   "execution_count": 17,
   "id": "e9d843c0-43ee-4a8b-b686-9820bec1d9fe",
   "metadata": {},
   "outputs": [
    {
     "data": {
      "text/plain": [
       "[3, 2, 1]"
      ]
     },
     "execution_count": 17,
     "metadata": {},
     "output_type": "execute_result"
    }
   ],
   "source": [
    "l"
   ]
  },
  {
   "cell_type": "code",
   "execution_count": 18,
   "id": "b6bb74bd-971d-4e4d-94d9-9acb9a772c64",
   "metadata": {},
   "outputs": [],
   "source": [
    "#This is the answer 3."
   ]
  },
  {
   "cell_type": "code",
   "execution_count": 21,
   "id": "d6945107-914e-4fe7-8caf-898b6a8c5003",
   "metadata": {},
   "outputs": [],
   "source": [
    "l=[1,2,2,3]"
   ]
  },
  {
   "cell_type": "code",
   "execution_count": 22,
   "id": "53fcd015-b422-4acc-9f3f-25b5855becdc",
   "metadata": {},
   "outputs": [
    {
     "data": {
      "text/plain": [
       "2"
      ]
     },
     "execution_count": 22,
     "metadata": {},
     "output_type": "execute_result"
    }
   ],
   "source": [
    "l.count(2)"
   ]
  },
  {
   "cell_type": "code",
   "execution_count": 23,
   "id": "468c7b84-f31a-4104-97f7-c6a4d7ff4ae6",
   "metadata": {},
   "outputs": [],
   "source": [
    "#This is the answer 4."
   ]
  },
  {
   "cell_type": "code",
   "execution_count": null,
   "id": "d814ffde-606c-4c38-bba8-01bbf46d0fe9",
   "metadata": {},
   "outputs": [],
   "source": []
  }
 ],
 "metadata": {
  "kernelspec": {
   "display_name": "Python 3 (ipykernel)",
   "language": "python",
   "name": "python3"
  },
  "language_info": {
   "codemirror_mode": {
    "name": "ipython",
    "version": 3
   },
   "file_extension": ".py",
   "mimetype": "text/x-python",
   "name": "python",
   "nbconvert_exporter": "python",
   "pygments_lexer": "ipython3",
   "version": "3.10.8"
  }
 },
 "nbformat": 4,
 "nbformat_minor": 5
}
